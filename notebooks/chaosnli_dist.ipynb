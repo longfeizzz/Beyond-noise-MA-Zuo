{
 "cells": [
  {
   "cell_type": "code",
   "execution_count": 10,
   "metadata": {},
   "outputs": [
    {
     "name": "stdout",
     "output_type": "stream",
     "text": [
      "✅ 已完成：每行 error_labels 替换结果写入 chaosnli_dist_noise！\n"
     ]
    }
   ],
   "source": [
    "import json\n",
    "import random\n",
    "\n",
    "input_path = \"/Users/phoebeeeee/ongoing/Beyond-noise/dataset/varierr_with_peer_validated.json\"\n",
    "output_path = \"/Users/phoebeeeee/ongoing/Beyond-noise/dataset/varierr_peer_chaosnli_dist_noise/varierr_with_chaosnli_dist_noise.json\"\n",
    "\n",
    "# chaosnli标签映射\n",
    "index_to_label = {\"e\": \"entailment\", \"n\": \"neutral\", \"c\": \"contradiction\"}\n",
    "\n",
    "def sample_from_inverse_distribution(freq_dict):\n",
    "    # 倒数 + 归一化\n",
    "    weights = {k: 1 / v for k, v in freq_dict.items() if v > 0}\n",
    "    total = sum(weights.values())\n",
    "    probs = {k: w / total for k, w in weights.items()}\n",
    "    \n",
    "    labels, probabilities = zip(*probs.items())\n",
    "    sampled = random.choices(labels, weights=probabilities, k=1)[0]\n",
    "    return index_to_label[sampled]  # 返回的是标准标签名\n",
    "\n",
    "with open(input_path, \"r\", encoding=\"utf-8\") as infile, open(output_path, \"w\", encoding=\"utf-8\") as outfile:\n",
    "    for line in infile:\n",
    "        data = json.loads(line)\n",
    "        chaosnli_counts = data.get(\"chaosnli_labels\", {})\n",
    "        error_labels = data.get(\"error_labels\", [])\n",
    "\n",
    "        if chaosnli_counts and error_labels:\n",
    "            new_labels = []\n",
    "            for _ in error_labels:\n",
    "                sampled_label = sample_from_inverse_distribution(chaosnli_counts)\n",
    "                new_labels.append(sampled_label)\n",
    "\n",
    "            data[\"chaosnli_dist_noise\"] = new_labels\n",
    "\n",
    "        outfile.write(json.dumps(data, ensure_ascii=False) + \"\\n\")\n",
    "\n",
    "print(\"✅ 已完成：每行 error_labels 替换结果写入 chaosnli_dist_noise！\")\n"
   ]
  },
  {
   "cell_type": "code",
   "execution_count": 11,
   "metadata": {},
   "outputs": [
    {
     "name": "stdout",
     "output_type": "stream",
     "text": [
      "✅ 完成： /Users/phoebeeeee/ongoing/Beyond-noise/dataset/varierr_peer_chaosnli_dist_noise/varierr_with_chaosnli_dist_noise_count.json\n"
     ]
    }
   ],
   "source": [
    "# new count \n",
    "\n",
    "import json\n",
    "from collections import Counter\n",
    "\n",
    "input_path = \"/Users/phoebeeeee/ongoing/Beyond-noise/dataset/varierr_peer_chaosnli_dist_noise/varierr_with_chaosnli_dist_noise.json\"\n",
    "output_path = \"/Users/phoebeeeee/ongoing/Beyond-noise/dataset/varierr_peer_chaosnli_dist_noise/varierr_with_chaosnli_dist_noise_count.json\"\n",
    "\n",
    "\n",
    "labels = [\"entailment\", \"neutral\", \"contradiction\"]\n",
    "\n",
    "with open(input_path, \"r\", encoding=\"utf-8\") as infile, open(output_path, \"w\", encoding=\"utf-8\") as outfile:\n",
    "    for line in infile:\n",
    "        data = json.loads(line)\n",
    "\n",
    "        label_set_round_2 = set(data.get(\"label_set_round_3\", []))\n",
    "        noise_peer = data.get(\"chaosnli_dist_noise\", [])\n",
    "\n",
    "        # 统计 error_peer 中每个标签出现次数\n",
    "        noise_counter = Counter(noise_peer)\n",
    "\n",
    "        # 构建 random_noise_labels_count\n",
    "        random_noise_labels_count = {}\n",
    "        for label in labels:\n",
    "            count = 0\n",
    "\n",
    "            # 如果 label 在 label_set_round_2 出现过，加1\n",
    "            if label in label_set_round_2:\n",
    "                count += 1\n",
    "\n",
    "            count += noise_counter.get(label, 0)\n",
    "\n",
    "            # 如果最终 count 是0，就设为 null，否则 float(count)\n",
    "            random_noise_labels_count[label] = float(count) if count > 0 else None\n",
    "\n",
    "        # 只新增 random_noise_labels_count，不动 label_set_round_2\n",
    "        data[\"chaosnli_dist_noise_count\"] = random_noise_labels_count\n",
    "\n",
    "        # 保存新的数据\n",
    "        outfile.write(json.dumps(data, ensure_ascii=False) + \"\\n\")\n",
    "\n",
    "print(\"✅ 完成：\", output_path)\n",
    "\n"
   ]
  },
  {
   "cell_type": "code",
   "execution_count": 12,
   "metadata": {},
   "outputs": [
    {
     "name": "stdout",
     "output_type": "stream",
     "text": [
      "处理完成，已写入新文件：/Users/phoebeeeee/ongoing/Beyond-noise/dataset/varierr_peer_chaosnli_dist_noise/varierr_with_chaosnli_dist_noise_dist.json\n"
     ]
    }
   ],
   "source": [
    "## 生成distribution\n",
    "\n",
    "import json\n",
    "\n",
    "input_path = \"/Users/phoebeeeee/ongoing/Beyond-noise/dataset/varierr_peer_chaosnli_dist_noise/varierr_with_chaosnli_dist_noise_count.json\"\n",
    "output_path = \"/Users/phoebeeeee/ongoing/Beyond-noise/dataset/varierr_peer_chaosnli_dist_noise/varierr_with_chaosnli_dist_noise_dist.json\"\n",
    "\n",
    "def convert_label_count_to_dist(label_count_dict):\n",
    "\n",
    "    c = label_count_dict.get(\"contradiction\") or 0\n",
    "    e = label_count_dict.get(\"entailment\") or 0\n",
    "    n = label_count_dict.get(\"neutral\") or 0\n",
    "\n",
    "    total = c + e + n\n",
    "    if total == 0:\n",
    "        return [0.0, 0.0, 0.0]  # 避免除0\n",
    "    return [e / total, n / total, c / total]  # 顺序为 [e, n, c]\n",
    "\n",
    "with open(input_path, \"r\", encoding=\"utf-8\") as infile, \\\n",
    "     open(output_path, \"w\", encoding=\"utf-8\") as outfile:\n",
    "\n",
    "    for line in infile:\n",
    "        item = json.loads(line)\n",
    "\n",
    "        label_counts = item.get(\"chaosnli_dist_noise_count\")\n",
    "        if label_counts:\n",
    "            item[\"label\"] = convert_label_count_to_dist(label_counts)\n",
    "\n",
    "        json.dump(item, outfile)\n",
    "        outfile.write(\"\\n\")\n",
    "\n",
    "print(f\"处理完成，已写入新文件：{output_path}\")\n"
   ]
  },
  {
   "cell_type": "code",
   "execution_count": 13,
   "metadata": {},
   "outputs": [
    {
     "name": "stderr",
     "output_type": "stream",
     "text": [
      "Processing /Users/phoebeeeee/ongoing/Beyond-noise/dataset/varierr_peer_chaosnli_dist_noise/varierr_with_chaosnli_dist_noise_dist.json: 500it [00:00, 27342.27it/s]\n"
     ]
    }
   ],
   "source": [
    "## clean\n",
    "\n",
    "import json\n",
    "from pathlib import Path\n",
    "from tqdm import tqdm\n",
    "\n",
    "def normalize_label_dist(chaos_dict):\n",
    "    # 标签顺序固定：[\"entailment\", \"neutral\", \"contradiction\"]\n",
    "    label_order = [\"entailment\", \"neutral\", \"contradiction\"]\n",
    "    values = [(chaos_dict.get(k) or 0.0) for k in label_order]  # 将 None 转换为 0.0\n",
    "    total = sum(values)\n",
    "    if total == 0:\n",
    "        return [0.0] * 3\n",
    "    return [v / total for v in values]\n",
    "\n",
    "\n",
    "def process_file(input_path, output_path):\n",
    "    with open(input_path, \"r\", encoding=\"utf-8\") as fin, open(output_path, \"w\", encoding=\"utf-8\") as fout:\n",
    "        for line in tqdm(fin, desc=f\"Processing {input_path}\"):\n",
    "            raw = json.loads(line)\n",
    "            out = {\n",
    "                \"uid\": raw.get(\"id\", raw.get(\"uid\")),\n",
    "                \"premise\": raw.get(\"context\") or raw[\"example\"][\"premise\"],\n",
    "                \"hypothesis\": raw.get(\"statement\") or raw[\"example\"][\"hypothesis\"],\n",
    "                \"label\": raw.get(\"label\")\n",
    "            }\n",
    "            fout.write(json.dumps(out, ensure_ascii=False) + \"\\n\")\n",
    "\n",
    "# 示例调用方式\n",
    "if __name__ == \"__main__\":\n",
    "    input_path = \"/Users/phoebeeeee/ongoing/Beyond-noise/dataset/varierr_peer_chaosnli_dist_noise/varierr_with_chaosnli_dist_noise_dist.json\"\n",
    "    output_path = \"/Users/phoebeeeee/ongoing/Beyond-noise/dataset/varierr_peer_chaosnli_dist_noise/varierr_with_chaosnli_dist_noise_cleaned.json\"\n",
    "    process_file(input_path, output_path)\n"
   ]
  },
  {
   "cell_type": "code",
   "execution_count": null,
   "metadata": {},
   "outputs": [],
   "source": []
  }
 ],
 "metadata": {
  "kernelspec": {
   "display_name": "base",
   "language": "python",
   "name": "python3"
  },
  "language_info": {
   "codemirror_mode": {
    "name": "ipython",
    "version": 3
   },
   "file_extension": ".py",
   "mimetype": "text/x-python",
   "name": "python",
   "nbconvert_exporter": "python",
   "pygments_lexer": "ipython3",
   "version": "3.12.3"
  }
 },
 "nbformat": 4,
 "nbformat_minor": 2
}
