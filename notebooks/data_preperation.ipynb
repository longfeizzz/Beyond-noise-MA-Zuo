{
 "cells": [
  {
   "cell_type": "markdown",
   "metadata": {},
   "source": [
    "## varierr example"
   ]
  },
  {
   "cell_type": "markdown",
   "metadata": {},
   "source": [
    "{\"id\": \"23751e\", \"context\": \"Part of the reason for the difference in pieces per possible delivery may be due to the fact that five percent of possible residential deliveries are businesses, and it is thought, but not known, that a lesser percentage of possible deliveries on rural routes are businesses.\", \"statement\": \"It is thought, but not known, that a lesser percentage of possible deliveries on rural routes are businesses, and part of the reason for the difference in pieces per possible delivery, may be due to the fact that five percent of possible residential deliveries are businesses.\", \"entailment\": [{\"annotator\": 2, \"id\": \"664-entailment-1\", \"judgments\": [{\"annotator\": 0, \"makes_sense\": false}, {\"annotator\": 1, \"makes_sense\": true}, {\"annotator\": 2, \"makes_sense\": true}, {\"annotator\": 3, \"makes_sense\": false}], \"label_correction\": false, \"reason\": \"Statement just changed the order of two hypothesis in the context.\", \"self_corrected\": false}], \"neutral\": [], \"contradiction\": [{\"annotator\": 0, \"id\": \"664-contradiction-1\", \"judgments\": [{\"annotator\": 0, \"makes_sense\": true}, {\"annotator\": 1, \"makes_sense\": true}, {\"annotator\": 3, \"makes_sense\": true}], \"label_correction\": false, \"reason\": \"The reason for the diffenrence in pieces per possible delivery mentioned in the context is that the difference percentage of businesses deliveries on residential and rural routes. But the reason in the statement only include the percentage of residential deliveries, not the diffenrence of deliveries.\", \"self_corrected\": false}], \"idk\": [1, 3], \n",
    "\n",
    "\"label_count_round_1\": {\"contradiction\": 1.0, \"entailment\": 1.0, \"neutral\": null}, \"label_count_round_2\": {\"contradiction\": 1.0, \"entailment\": 1.0, \"neutral\": null}, \"label_set_round_1\": [\"contradiction\", \"entailment\"], \"label_set_round_2\": [\"contradiction\", \"entailment\"], \"error_labels\": [], \"has_ambiguity\": true, \"chaosnli_labels\": {\"e\": 85, \"n\": 13, \"c\": 2}}\n"
   ]
  },
  {
   "cell_type": "markdown",
   "metadata": {},
   "source": [
    "{\"id\": \"112349c\", \"context\": \"The idea that Clinton's approval represents something new and immoral in the country is historically shortsighted.\", \"statement\": \"It's accurate to conclude that Clinton's approvals signify the start of a new form of immorality in the country.\", \"entailment\": [], \"neutral\": [{\"annotator\": 3, \"id\": \"469-neutral-1\", \"judgments\": [{\"annotator\": 0, \"makes_sense\": false}, {\"annotator\": 3, \"makes_sense\": false}], \"label_correction\": true, \"reason\": \"the approval only signified that the somehting immoral is historically shortsighted but does not introduce it.\", \"self_corrected\": true}], \"contradiction\": [{\"annotator\": 0, \"id\": \"469-contradiction-1\", \"judgments\": [{\"annotator\": 0, \"makes_sense\": true}, {\"annotator\": 2, \"makes_sense\": true}, {\"annotator\": 3, \"makes_sense\": true}], \"label_correction\": false, \"reason\": \"The contexts suggests that the conclusion about Clinton's approval is shortsighted, while the statement refers to the accuration of this conclusion, so it is incorrect.\", \"self_corrected\": false}, {\"annotator\": 1, \"id\": \"469-contradiction-2\", \"judgments\": [{\"annotator\": 0, \"makes_sense\": true}, {\"annotator\": 1, \"makes_sense\": true}, {\"annotator\": 2, \"makes_sense\": true}, {\"annotator\": 3, \"makes_sense\": true}], \"label_correction\": false, \"reason\": \"If an idea is historically shortsighted it is not accurate.\", \"self_corrected\": false}, {\"annotator\": 2, \"id\": \"469-contradiction-3\", \"judgments\": [{\"annotator\": 0, \"makes_sense\": true}, {\"annotator\": 1, \"makes_sense\": true}, {\"annotator\": 2, \"makes_sense\": true}, {\"annotator\": 3, \"makes_sense\": true}], \"label_correction\": false, \"reason\": \"To the same idea, the context remarked it as \\\"historically shortsighted\\\", but the statement took it as \\\"accurate\\\".\", \"self_corrected\": false}], \"idk\": [], \"label_count_round_1\": {\"contradiction\": 3.0, \"entailment\": null, \"neutral\": 1.0}, \"label_count_round_2\": {\"contradiction\": 3.0, \"entailment\": null, \"neutral\": null}, \n",
    "\n",
    "\"label_set_round_1\": [\"neutral\", \"contradiction\"], \"label_set_round_2\": [\"contradiction\"], \"error_labels\": [\"neutral\"], \"has_ambiguity\": false, \"chaosnli_labels\": {\"c\": 63, \"e\": 21, \"n\": 16}, \"label_dist\": [0.0, 0.25, 0.75]}\n"
   ]
  },
  {
   "cell_type": "markdown",
   "metadata": {},
   "source": [
    "{\"id\": \"116176c\", \"context\": \"Students of human misery can savor its underlying sadness and futility.\", \"statement\": \"Students of human misery will be delighted to see how sad it truly is.\", \"entailment\": [{\"annotator\": 1, \"id\": \"704-entailment-1\", \"judgments\": [{\"annotator\": 0, \"makes_sense\": true}, {\"annotator\": 1, \"makes_sense\": true}, {\"annotator\": 2, \"makes_sense\": false}, {\"annotator\": 3, \"makes_sense\": false}], \"label_correction\": false, \"reason\": \"\\\"can savor\\\" implies \\\"will be delighted\\\".\", \"self_corrected\": false}], \"neutral\": [{\"annotator\": 0, \"id\": \"704-neutral-1\", \"judgments\": [{\"annotator\": 0, \"makes_sense\": false}, {\"annotator\": 1, \"makes_sense\": false}, {\"annotator\": 2, \"makes_sense\": true}, {\"annotator\": 3, \"makes_sense\": true}], \"label_correction\": false, \"reason\": \"It is not clear from the context if the students will be delighted.\", \"self_corrected\": true}, {\"annotator\": 2, \"id\": \"704-neutral-2\", \"judgments\": [{\"annotator\": 0, \"makes_sense\": false}, {\"annotator\": 1, \"makes_sense\": false}, {\"annotator\": 2, \"makes_sense\": true}, {\"annotator\": 3, \"makes_sense\": true}], \"label_correction\": false, \"reason\": \"Students of human misery can \\\"savored\\\" that sadness, so maybe they are delighted to see that, maybe they are tortured by the disasters.\", \"self_corrected\": false}], \"contradiction\": [{\"annotator\": 3, \"id\": \"704-contradiction-1\", \"judgments\": [{\"annotator\": 0, \"makes_sense\": false}, {\"annotator\": 1, \"makes_sense\": false}, {\"annotator\": 3, \"makes_sense\": false}], \"label_correction\": true, \"reason\": \"Savor means to understand. Not to enjoy\", \"self_corrected\": true}], \"idk\": [], \"label_count_round_1\": {\"contradiction\": 1.0, \"entailment\": 1.0, \"neutral\": 2.0}, \"label_count_round_2\": {\"contradiction\": null, \"entailment\": 1.0, \"neutral\": 1.0}, \"label_set_round_1\": [\"contradiction\", \"neutral\", \"entailment\"], \n",
    "\n",
    "\"label_set_round_2\": [\"neutral\", \"entailment\"], \"error_labels\": [\"contradiction\"], \"has_ambiguity\": true, \"chaosnli_labels\": {\"e\": 69, \"n\": 26, \"c\": 5}, \n",
    "\n",
    "\"label_count_round_3\": {\"entailment\": null, \"neutral\": 1, \"contradiction\": null}, \n",
    "\n",
    "\"label_set_round_3\": [\"neutral\"]}\n",
    "\n",
    "\n",
    "\n",
    "\n",
    "{\"id\": \"116176c\", \"context\": \"Students of human misery can savor its underlying sadness and futility.\", \"statement\": \"Students of human misery will be delighted to see how sad it truly is.\", \"entailment\": [{\"annotator\": 1, \"id\": \"704-entailment-1\", \"judgments\": [{\"annotator\": 0, \"makes_sense\": true}, {\"annotator\": 1, \"makes_sense\": true}, {\"annotator\": 2, \"makes_sense\": false}, {\"annotator\": 3, \"makes_sense\": false}], \"label_correction\": false, \"reason\": \"\\\"can savor\\\" implies \\\"will be delighted\\\".\", \"self_corrected\": false}], \"neutral\": [{\"annotator\": 0, \"id\": \"704-neutral-1\", \"judgments\": [{\"annotator\": 0, \"makes_sense\": false}, {\"annotator\": 1, \"makes_sense\": false}, {\"annotator\": 2, \"makes_sense\": true}, {\"annotator\": 3, \"makes_sense\": true}], \"label_correction\": false, \"reason\": \"It is not clear from the context if the students will be delighted.\", \"self_corrected\": true}, {\"annotator\": 2, \"id\": \"704-neutral-2\", \"judgments\": [{\"annotator\": 0, \"makes_sense\": false}, {\"annotator\": 1, \"makes_sense\": false}, {\"annotator\": 2, \"makes_sense\": true}, {\"annotator\": 3, \"makes_sense\": true}], \"label_correction\": false, \"reason\": \"Students of human misery can \\\"savored\\\" that sadness, so maybe they are delighted to see that, maybe they are tortured by the disasters.\", \"self_corrected\": false}], \"contradiction\": [{\"annotator\": 3, \"id\": \"704-contradiction-1\", \"judgments\": [{\"annotator\": 0, \"makes_sense\": false}, {\"annotator\": 1, \"makes_sense\": false}, {\"annotator\": 3, \"makes_sense\": false}], \"label_correction\": true, \"reason\": \"Savor means to understand. Not to enjoy\", \"self_corrected\": true}], \"idk\": [], \n",
    "\n",
    "\"label_count_round_1\": {\"contradiction\": 1.0, \"entailment\": 1.0, \"neutral\": 2.0}, \"label_count_round_2\": {\"contradiction\": null, \"entailment\": 1.0, \"neutral\": 1.0}, \n",
    "\"label_set_round_1\": [\"contradiction\", \"neutral\", \"entailment\"], \n",
    "\"label_set_round_2\": [\"neutral\", \"entailment\"], \"error_labels\": [\"contradiction\"], \"has_ambiguity\": true, \n",
    "\"chaosnli_labels\": {\"e\": 69, \"n\": 26, \"c\": 5}, \n",
    "\"not_peer_validated\": [\"entailment\", \"contradiction\"]}\n",
    "\n"
   ]
  },
  {
   "cell_type": "markdown",
   "metadata": {},
   "source": [
    "{\"id\": \"116176c\", \"context\": \"Students of human misery can savor its underlying sadness and futility.\", \"statement\": \"Students of human misery will be delighted to see how sad it truly is.\", \"entailment\": [{\"annotator\": 1, \"id\": \"704-entailment-1\", \"judgments\": [{\"annotator\": 0, \"makes_sense\": true}, {\"annotator\": 1, \"makes_sense\": true}, {\"annotator\": 2, \"makes_sense\": false}, {\"annotator\": 3, \"makes_sense\": false}], \"label_correction\": false, \"reason\": \"\\\"can savor\\\" implies \\\"will be delighted\\\".\", \"self_corrected\": false}], \"neutral\": [{\"annotator\": 0, \"id\": \"704-neutral-1\", \"judgments\": [{\"annotator\": 0, \"makes_sense\": false}, {\"annotator\": 1, \"makes_sense\": false}, {\"annotator\": 2, \"makes_sense\": true}, {\"annotator\": 3, \"makes_sense\": true}], \"label_correction\": false, \"reason\": \"It is not clear from the context if the students will be delighted.\", \"self_corrected\": true}, {\"annotator\": 2, \"id\": \"704-neutral-2\", \"judgments\": [{\"annotator\": 0, \"makes_sense\": false}, {\"annotator\": 1, \"makes_sense\": false}, {\"annotator\": 2, \"makes_sense\": true}, {\"annotator\": 3, \"makes_sense\": true}], \"label_correction\": false, \"reason\": \"Students of human misery can \\\"savored\\\" that sadness, so maybe they are delighted to see that, maybe they are tortured by the disasters.\", \"self_corrected\": false}], \"contradiction\": [{\"annotator\": 3, \"id\": \"704-contradiction-1\", \"judgments\": [{\"annotator\": 0, \"makes_sense\": false}, {\"annotator\": 1, \"makes_sense\": false}, {\"annotator\": 3, \"makes_sense\": false}], \"label_correction\": true, \"reason\": \"Savor means to understand. Not to enjoy\", \"self_corrected\": true}], \"idk\": [], \"label_count_round_1\": {\"contradiction\": 1.0, \"entailment\": 1.0, \"neutral\": 2.0}, \"label_count_round_2\": {\"contradiction\": null, \"entailment\": 1.0, \"neutral\": 1.0}, \"label_set_round_1\": [\"contradiction\", \"neutral\", \"entailment\"], \"label_set_round_2\": [\"neutral\", \"entailment\"], \"error_labels\": [\"contradiction\"], \"has_ambiguity\": true, \"chaosnli_labels\": {\"e\": 69, \"n\": 26, \"c\": 5}, \"label_count_round_3\": {\"entailment\": null, \"neutral\": 1, \"contradiction\": null}, \"label_set_round_3\": [\"neutral\"]}\n"
   ]
  },
  {
   "cell_type": "code",
   "execution_count": 1,
   "metadata": {},
   "outputs": [
    {
     "name": "stdout",
     "output_type": "stream",
     "text": [
      "✅ self_corrected=True 的条目数: 221\n",
      "✅ error_labels 非空的条目数: 119\n"
     ]
    }
   ],
   "source": [
    "import json\n",
    "\n",
    "def count_self_corrected_and_error_labels(file_path):\n",
    "    self_corrected_count = 0\n",
    "    error_labels_count = 0\n",
    "\n",
    "    with open(file_path, 'r', encoding='utf-8') as f:\n",
    "        for line in f:\n",
    "            data = json.loads(line.strip())\n",
    "\n",
    "            # 遍历 entailment / contradiction / neutral 三个字段\n",
    "            for category in ['entailment', 'neutral', 'contradiction']:\n",
    "                for annotation in data.get(category, []):\n",
    "                    if annotation.get(\"self_corrected\", False):\n",
    "                        self_corrected_count += 1\n",
    "\n",
    "            if data.get(\"error_labels\"):\n",
    "                error_labels_count += 1\n",
    "\n",
    "    print(f\"✅ self_corrected=True 的条目数: {self_corrected_count}\")\n",
    "    print(f\"✅ error_labels 非空的条目数: {error_labels_count}\")\n",
    "\n",
    "# 路径替换为你本地的 JSONL 文件路径\n",
    "file_path = \"/Users/phoebeeeee/ongoing/Beyond-noise/dataset/varierr.json\"\n",
    "count_self_corrected_and_error_labels(file_path)\n"
   ]
  },
  {
   "cell_type": "markdown",
   "metadata": {},
   "source": [
    "{\"id\": \"116176c\", \"context\": \"Students of human misery can savor its underlying sadness and futility.\", \"statement\": \"Students of human misery will be delighted to see how sad it truly is.\", \"entailment\": [{\"annotator\": 1, \"id\": \"704-entailment-1\", \"judgments\": [{\"annotator\": 0, \"makes_sense\": true}, {\"annotator\": 1, \"makes_sense\": true}, {\"annotator\": 2, \"makes_sense\": false}, {\"annotator\": 3, \"makes_sense\": false}], \"label_correction\": false, \"reason\": \"\\\"can savor\\\" implies \\\"will be delighted\\\".\", \"self_corrected\": false}], \"neutral\": [{\"annotator\": 0, \"id\": \"704-neutral-1\", \"judgments\": [{\"annotator\": 0, \"makes_sense\": false}, {\"annotator\": 1, \"makes_sense\": false}, {\"annotator\": 2, \"makes_sense\": true}, {\"annotator\": 3, \"makes_sense\": true}], \"label_correction\": false, \"reason\": \"It is not clear from the context if the students will be delighted.\", \"self_corrected\": true}, {\"annotator\": 2, \"id\": \"704-neutral-2\", \"judgments\": [{\"annotator\": 0, \"makes_sense\": false}, {\"annotator\": 1, \"makes_sense\": false}, {\"annotator\": 2, \"makes_sense\": true}, {\"annotator\": 3, \"makes_sense\": true}], \"label_correction\": false, \"reason\": \"Students of human misery can \\\"savored\\\" that sadness, so maybe they are delighted to see that, maybe they are tortured by the disasters.\", \"self_corrected\": false}], \"contradiction\": [{\"annotator\": 3, \"id\": \"704-contradiction-1\", \"judgments\": [{\"annotator\": 0, \"makes_sense\": false}, {\"annotator\": 1, \"makes_sense\": false}, {\"annotator\": 3, \"makes_sense\": false}], \"label_correction\": true, \"reason\": \"Savor means to understand. Not to enjoy\", \"self_corrected\": true}], \"idk\": [], \"label_count_round_1\": {\"contradiction\": 1.0, \"entailment\": 1.0, \"neutral\": 2.0}, \"label_count_round_2\": {\"contradiction\": null, \"entailment\": 1.0, \"neutral\": 1.0}, \"label_set_round_1\": [\"contradiction\", \"neutral\", \"entailment\"], \"label_set_round_2\": [\"neutral\", \"entailment\"], \"error_labels\": [\"contradiction\"], \"has_ambiguity\": true, \"chaosnli_labels\": {\"e\": 69, \"n\": 26, \"c\": 5}, \"labels\": [0.69, 0.26, 0.05]}\n"
   ]
  },
  {
   "cell_type": "markdown",
   "metadata": {},
   "source": [
    "# random noise\n",
    "{\"id\": \"28306c\", \"context\": \"They made little effort, despite the Jesuit presence in Asia, to convert local inhabitants to Christianity or to expand their territory into the interior.\", \"statement\": \"The Jesuit presence in Asia helped to convert local residents to Christianity, allowing them to expand their territory.\", \n",
    "\n",
    "\"entailment\": \n",
    "[{\"annotator\": 0, \"id\": \"22-entailment-1\", \"judgments\": [{\"annotator\": 0, \"makes_sense\": false}, {\"annotator\": 1, \"makes_sense\": false}, {\"annotator\": 2, \"makes_sense\": false}, {\"annotator\": 3, \"makes_sense\": false}], \"label_correction\": true, \"reason\": \"Both the context and the statement suggest that the speaker does not understand.\", \"self_corrected\": true}], \"neutral\": [], \"contradiction\": [{\"annotator\": 0, \"id\": \"22-contradiction-1\", \"judgments\": [{\"annotator\": 0, \"makes_sense\": true}, {\"annotator\": 1, \"makes_sense\": true}, {\"annotator\": 2, \"makes_sense\": true}, {\"annotator\": 3, \"makes_sense\": true}], \"label_correction\": false, \"reason\": \"The Jesuit presence didn't make much effort to convert local residents to Christianity or to expand their territory.\", \"self_corrected\": false}, {\"annotator\": 1, \"id\": \"22-contradiction-2\", \"judgments\": [{\"annotator\": 0, \"makes_sense\": true}, {\"annotator\": 2, \"makes_sense\": true}, {\"annotator\": 3, \"makes_sense\": true}], \"label_correction\": false, \"reason\": \"They did not try to expand their territory.\", \"self_corrected\": true}, {\"annotator\": 2, \"id\": \"22-contradiction-3\", \"judgments\": [{\"annotator\": 0, \"makes_sense\": true}, {\"annotator\": 1, \"makes_sense\": true}, {\"annotator\": 2, \"makes_sense\": true}, {\"annotator\": 3, \"makes_sense\": true}], \"label_correction\": false, \"reason\": \"The Jesuit did not make effort to convert local residents to Christianity, or to expand their territory.\", \"self_corrected\": false}, {\"annotator\": 3, \"id\": \"22-contradiction-4\", \"judgments\": [{\"annotator\": 0, \"makes_sense\": true}, {\"annotator\": 1, \"makes_sense\": true}, {\"annotator\": 2, \"makes_sense\": true}, {\"annotator\": 3, \"makes_sense\": true}], \"label_correction\": false, \"reason\": \"They made little effort to convert the locals or to expand the their territory. So they did not help.\", \"self_corrected\": false}], \"idk\": [], \n",
    "\n",
    "\"label_count_round_1\": {\"contradiction\": 4.0, \"entailment\": 1.0, \"neutral\": null}, \n",
    "\"label_count_round_2\": {\"contradiction\": 3.0, \"entailment\": null, \"neutral\": null}, \n",
    "\"label_set_round_1\": [\"contradiction\", \"entailment\"], \n",
    "\"label_set_round_2\": [\"contradiction\"], \n",
    "\"error_labels\": [\"entailment\"], \n",
    "\"has_ambiguity\": false, \n",
    "\"chaosnli_labels\": {\"c\": 69, \"e\": 14, \"n\": 17}, \n",
    "\"random_noise_labels\": [\"neutral\"]}\n"
   ]
  },
  {
   "cell_type": "markdown",
   "metadata": {},
   "source": [
    "# distributional random noise\n",
    "{\"id\": \"28306c\", \"context\": \"They made little effort, despite the Jesuit presence in Asia, to convert local inhabitants to Christianity or to expand their territory into the interior.\", \"statement\": \"The Jesuit presence in Asia helped to convert local residents to Christianity, allowing them to expand their territory.\", \"entailment\": [{\"annotator\": 0, \"id\": \"22-entailment-1\", \"judgments\": [{\"annotator\": 0, \"makes_sense\": false}, {\"annotator\": 1, \"makes_sense\": false}, {\"annotator\": 2, \"makes_sense\": false}, {\"annotator\": 3, \"makes_sense\": false}], \"label_correction\": true, \"reason\": \"Both the context and the statement suggest that the speaker does not understand.\", \"self_corrected\": true}], \"neutral\": [], \"contradiction\": [{\"annotator\": 0, \"id\": \"22-contradiction-1\", \"judgments\": [{\"annotator\": 0, \"makes_sense\": true}, {\"annotator\": 1, \"makes_sense\": true}, {\"annotator\": 2, \"makes_sense\": true}, {\"annotator\": 3, \"makes_sense\": true}], \"label_correction\": false, \"reason\": \"The Jesuit presence didn't make much effort to convert local residents to Christianity or to expand their territory.\", \"self_corrected\": false}, {\"annotator\": 1, \"id\": \"22-contradiction-2\", \"judgments\": [{\"annotator\": 0, \"makes_sense\": true}, {\"annotator\": 2, \"makes_sense\": true}, {\"annotator\": 3, \"makes_sense\": true}], \"label_correction\": false, \"reason\": \"They did not try to expand their territory.\", \"self_corrected\": true}, {\"annotator\": 2, \"id\": \"22-contradiction-3\", \"judgments\": [{\"annotator\": 0, \"makes_sense\": true}, {\"annotator\": 1, \"makes_sense\": true}, {\"annotator\": 2, \"makes_sense\": true}, {\"annotator\": 3, \"makes_sense\": true}], \"label_correction\": false, \"reason\": \"The Jesuit did not make effort to convert local residents to Christianity, or to expand their territory.\", \"self_corrected\": false}, {\"annotator\": 3, \"id\": \"22-contradiction-4\", \"judgments\": [{\"annotator\": 0, \"makes_sense\": true}, {\"annotator\": 1, \"makes_sense\": true}, {\"annotator\": 2, \"makes_sense\": true}, {\"annotator\": 3, \"makes_sense\": true}], \"label_correction\": false, \"reason\": \"They made little effort to convert the locals or to expand the their territory. So they did not help.\", \"self_corrected\": false}], \"idk\": [], \n",
    "\n",
    "\"label_count_round_1\": {\"contradiction\": 4.0, \"entailment\": 1.0, \"neutral\": null}, \n",
    "\"label_count_round_2\": {\"contradiction\": 3.0, \"entailment\": null, \"neutral\": null}, \n",
    "\"label_set_round_1\": [\"contradiction\", \"entailment\"], \n",
    "\"label_set_round_2\": [\"contradiction\"], \n",
    "\"error_labels\": [\"entailment\"], \n",
    "\"has_ambiguity\": false, \n",
    "\"chaosnli_labels\": {\"c\": 69, \"e\": 14, \"n\": 17}, \n",
    "\"random_noise_labels\": [\"entailment\"]}"
   ]
  },
  {
   "cell_type": "markdown",
   "metadata": {},
   "source": [
    "{\"id\": \"72870c\", \"context\": \"Because marginal costs are very low, a newspaper price for preprints might be as low as 5 or 6 cents per piece.\", \"statement\": \"Newspaper preprints can cost as much as $5.\", \n",
    "\n",
    "\"entailment\": \n",
    "[{\"annotator\": 3, \"id\": \"229-entailment-1\", \"judgments\": [{\"annotator\": 0, \"makes_sense\": false}, {\"annotator\": 1, \"makes_sense\": false}, {\"annotator\": 2, \"makes_sense\": false}, {\"annotator\": 3, \"makes_sense\": false}], \n",
    "\"label_correction\": true, \n",
    "\"reason\": \"5 dollars for a pieace of newspaper\", \n",
    "\"self_corrected\": true}], \n",
    "\n",
    "\"neutral\": \n",
    "[{\"annotator\": 0, \"id\": \"229-neutral-1\", \"judgments\": [{\"annotator\": 0, \"makes_sense\": true}, {\"annotator\": 1, \"makes_sense\": true}, {\"annotator\": 2, \"makes_sense\": true}, {\"annotator\": 3, \"makes_sense\": true}], \n",
    "\"label_correction\": false, \n",
    "\"reason\": \"The context only mentions how low the price may be, not how high it may be.\", \n",
    "\"self_corrected\": false}, \n",
    "\n",
    "{\"annotator\": 2, \"id\": \"229-neutral-2\", \"judgments\": [{\"annotator\": 0, \"makes_sense\": true}, {\"annotator\": 1, \"makes_sense\": true}, {\"annotator\": 2, \"makes_sense\": true}, {\"annotator\": 3, \"makes_sense\": true}], \n",
    "\"label_correction\": false, \n",
    "\"reason\": \"The maximum cost of newspaper preprints is not given in the context.\", \n",
    "\"self_corrected\": false}], \n",
    "\n",
    "\"contradiction\": \n",
    "[{\"annotator\": 1, \"id\": \"229-contradiction-1\", \"judgments\": [{\"annotator\": 0, \"makes_sense\": false}, {\"annotator\": 1, \"makes_sense\": false}, {\"annotator\": 2, \"makes_sense\": true}, {\"annotator\": 3, \"makes_sense\": true}], \n",
    "\"label_correction\": false,   #这是什么\n",
    "\"reason\": \"The context says 5 or 6 cents, not $5.\", \n",
    "\"self_corrected\": true}], \n",
    "\n",
    "\"idk\": [], \n",
    "\n",
    "\"label_count_round_1\": {\"contradiction\": 1.0, \"entailment\": 1.0, \"neutral\": 2.0}, \n",
    "\"label_count_round_2\": {\"contradiction\": null, \"entailment\": null, \"neutral\": 2.0}, \n",
    "\"label_set_round_1\": [\"contradiction\", \"neutral\", \"entailment\"], \n",
    "\"label_set_round_2\": [\"neutral\"], \n",
    "\"error_labels\": [\"contradiction\", \"entailment\"], \n",
    "\"has_ambiguity\": false, \n",
    "\"chaosnli_labels\": {\"n\": 33, \"c\": 64, \"e\": 3}}"
   ]
  },
  {
   "cell_type": "markdown",
   "metadata": {},
   "source": [
    "{\"id\": \"80630e\", \"context\": \"The tree-lined avenue extends less than three blocks to the sea.\", \"statement\": \"The sea isn't even three blocks away.\", \n",
    "\n",
    "\"entailment\": \n",
    "[{\"annotator\": 0, \"id\": \"1277-entailment-1\", \"judgments\": [{\"annotator\": 0, \"makes_sense\": true}, {\"annotator\": 1, \"makes_sense\": true}, {\"annotator\": 2, \"makes_sense\": true}, {\"annotator\": 3, \"makes_sense\": false}], \n",
    "\"label_correction\": false, \n",
    "\"reason\": \"Both the context and the statement talk about the distance to the sea is lee than three blocks.\", \n",
    "\"self_corrected\": false}, \n",
    "\n",
    "{\"annotator\": 1, \"id\": \"1277-entailment-2\", \"judgments\": [{\"annotator\": 0, \"makes_sense\": true}, {\"annotator\": 1, \"makes_sense\": true}, {\"annotator\": 2, \"makes_sense\": true}, {\"annotator\": 3, \"makes_sense\": false}], \n",
    "\"label_correction\": false, \n",
    "\"reason\": \"If the avenue reaches the sea after less then three blocks, it cannot be further away than three blocks.\", \n",
    "\"self_corrected\": false}, \n",
    "\n",
    "{\"annotator\": 2, \"id\": \"1277-entailment-3\", \"judgments\": [{\"annotator\": 0, \"makes_sense\": true}, {\"annotator\": 1, \"makes_sense\": true}, {\"annotator\": 2, \"makes_sense\": true}, {\"annotator\": 3, \"makes_sense\": false}], \n",
    "\"label_correction\": false, \n",
    "\"reason\": \"The avenue is less than three blocks to the sea.\", \"self_corrected\": false}, \n",
    "\n",
    "{\"annotator\": 3, \"id\": \"1277-entailment-4\", \"judgments\": [{\"annotator\": 1, \"makes_sense\": true}, {\"annotator\": 2, \"makes_sense\": true}, {\"annotator\": 3, \"makes_sense\": false}], \n",
    "\"label_correction\": false,   # 第二轮有三个及以上❌就true\n",
    "\"reason\": \"If the statement means that the sea is less than three blocks away\", \n",
    "\"self_corrected\": true}],    \n",
    "\n",
    "\"neutral\": \n",
    "[{\"annotator\": 2, \"id\": \"1277-neutral-1\", \"judgments\": [{\"annotator\": 0, \"makes_sense\": true}, {\"annotator\": 1, \"makes_sense\": false}, {\"annotator\": 2, \"makes_sense\": true}, {\"annotator\": 3, \"makes_sense\": true}], \n",
    "\"label_correction\": false, \n",
    "\"reason\": \"It is not given where is the location of the narrator.\", \n",
    "\"self_corrected\": false}], \n",
    "\n",
    "\"contradiction\": \n",
    "[{\"annotator\": 3, \"id\": \"1277-contradiction-1\", \"judgments\": [{\"annotator\": 1, \"makes_sense\": false}, {\"annotator\": 3, \"makes_sense\": false}], \"label_correction\": true, \n",
    "\"reason\": \"If the statement means that the sea is more than three blocks away\", \n",
    "\"self_corrected\": true}], \n",
    "\n",
    "\"idk\": [], \n",
    "\n",
    "\"label_count_round_1\": {\"contradiction\": 1.0, \"entailment\": 4.0, \"neutral\": 1.0}, \n",
    "\"label_count_round_2\": {\"contradiction\": null, \"entailment\": 3.0, \"neutral\": 1.0}, \n",
    "\"label_set_round_1\": [\"contradiction\", \"neutral\", \"entailment\"], \n",
    "\"label_set_round_2\": [\"neutral\", \"entailment\"], \n",
    "\"error_labels\": [\"contradiction\"], \n",
    "\"has_ambiguity\": true, \n",
    "\"chaosnli_labels\": {\"e\": 89, \"c\": 3, \"n\": 8}}\n"
   ]
  },
  {
   "cell_type": "markdown",
   "metadata": {},
   "source": [
    "{\"id\": \"73260n\", \"context\": \"The disputes among nobles were not the first concern of ordinary French citizens.\", \"statement\": \"Ordinary French citizens were not concerned with the disputes among nobles.\",\n",
    "\n",
    "\"entailment\": [{\"annotator\": 1, \"id\": \"1456-entailment-1\", \"judgments\": [{\"annotator\": 0, \"makes_sense\": true}, {\"annotator\": 1, \"makes_sense\": false}, {\"annotator\": 2, \"makes_sense\": false}, {\"annotator\": 3, \"makes_sense\": true}], \"label_correction\": false, \"reason\": \"In the context, \\\"The first concern\\\" can be read as a pars pro toto which would mean that it was really no concern at all.\", \"self_corrected\": true}], \n",
    "\n",
    "\"neutral\": [{\"annotator\": 0, \"id\": \"1456-neutral-1\", \"judgments\": [{\"annotator\": 0, \"makes_sense\": true}, {\"annotator\": 1, \"makes_sense\": true}, {\"annotator\": 2, \"makes_sense\": true}, {\"annotator\": 3, \"makes_sense\": true}], \"label_correction\": false, \"reason\": \"\\\"not the first concern\\\" doesn't mean not the concern. The statement can be true or false.\", \"self_corrected\": false}, {\"annotator\": 1, \"id\": \"1456-neutral-2\", \"judgments\": [{\"annotator\": 0, \"makes_sense\": true}, {\"annotator\": 1, \"makes_sense\": true}, {\"annotator\": 2, \"makes_sense\": true}, {\"annotator\": 3, \"makes_sense\": true}], \"label_correction\": false, \"reason\": \"It might not be the most important concern to the French citizens, but maybe an important concern after all.\", \"self_corrected\": false}, {\"annotator\": 2, \"id\": \"1456-neutral-3\", \"judgments\": [{\"annotator\": 0, \"makes_sense\": true}, {\"annotator\": 1, \"makes_sense\": true}, {\"annotator\": 2, \"makes_sense\": true}, {\"annotator\": 3, \"makes_sense\": true}], \"label_correction\": false, \"reason\": \"The disputes among nobles could be second concern of ordinary French citizens.\", \"self_corrected\": false}], \n",
    "\n",
    "\"contradiction\": [{\"annotator\": 3, \"id\": \"1456-contradiction-1\", \"judgments\": [{\"annotator\": 0, \"makes_sense\": false}, {\"annotator\": 1, \"makes_sense\": false}, {\"annotator\": 3, \"makes_sense\": true}], \"label_correction\": false, \"reason\": \"They could be concerned. But it is not their first concern\", \"self_corrected\": false}], \n",
    "\n",
    "\"idk\": [], \"label_count_round_1\": {\"contradiction\": 1.0, \"entailment\": 1.0, \"neutral\": 3.0}, \"label_count_round_2\": {\"contradiction\": 1.0, \"entailment\": null, \"neutral\": 3.0}, \"label_set_round_1\": [\"contradiction\", \"neutral\", \"entailment\"], \"label_set_round_2\": [\"neutral\", \"contradiction\"], \"error_labels\": [\"entailment\"], \"has_ambiguity\": true, \"chaosnli_labels\": {\"n\": 18, \"e\": 72, \"c\": 10}, \"peer_error\": [\"contradiction\"]}\n"
   ]
  },
  {
   "cell_type": "markdown",
   "metadata": {},
   "source": []
  },
  {
   "cell_type": "markdown",
   "metadata": {},
   "source": [
    "## chaos NLI example"
   ]
  },
  {
   "cell_type": "markdown",
   "metadata": {},
   "source": [
    "{\"uid\": \"11879n\", \n",
    "\"label_counter\": {\"e\": 87, \"n\": 12, \"c\": 1}, \n",
    "\"majority_label\": \"e\", \n",
    "\"label_dist\": [0.87, 0.12, 0.01], \n",
    "\"label_count\": [87, 12, 1], \n",
    "\"entropy\": 0.6082998482997922, \n",
    "\"example\": {\"uid\": \"11879n\", \"premise\": \"Since 1998, LSC has initiated and overseen significant structural changes in the number and configuration of LSC-funded programs in order to develop more powerful and effective state delivery systems.\", \"hypothesis\": \"LSC has been focusing on improving it's state delivery systems for a long time.\", \"source\": \"mnli_agree_3\"}, \n",
    "\"old_label\": \"n\", \n",
    "\"old_labels\": [\"neutral\", \"neutral\", \"entailment\", \"neutral\", \"entailment\"]}\n"
   ]
  },
  {
   "cell_type": "code",
   "execution_count": 1,
   "metadata": {},
   "outputs": [
    {
     "name": "stdout",
     "output_type": "stream",
     "text": [
      "共筛选出 1099 条 uid 不在 varierr.json 中的记录，已保存到 missing_in_varierr.jsonl\n"
     ]
    }
   ],
   "source": [
    "import json\n",
    "\n",
    "# 先读取 varierr.json 中所有的 id，放入一个集合\n",
    "varierr_ids = set()\n",
    "with open('/Users/phoebeeeee/ongoing/MA/dataset/varierr.json', 'r', encoding='utf-8') as f:\n",
    "    for line in f:\n",
    "        item = json.loads(line)\n",
    "        varierr_ids.add(item.get(\"id\"))\n",
    "\n",
    "# 读取 chaosNLI_mnli_m.jsonl，并挑出 uid 不在 varierr_ids 中的记录\n",
    "missing_entries = []\n",
    "with open('/Users/phoebeeeee/ongoing/MA/dataset/chaosNLI_v1.0/chaosNLI_mnli_m.jsonl', 'r', encoding='utf-8') as f:\n",
    "    for line in f:\n",
    "        entry = json.loads(line)\n",
    "        uid = entry.get(\"uid\")\n",
    "        if uid not in varierr_ids:\n",
    "            missing_entries.append(entry)\n",
    "\n",
    "# 写入结果到新文件\n",
    "with open('dev_test.jsonl', 'w', encoding='utf-8') as f:\n",
    "    for entry in missing_entries:\n",
    "        f.write(json.dumps(entry) + '\\n')\n",
    "\n",
    "print(f\"共筛选出 {len(missing_entries)} 条 uid 不在 varierr.json 中的记录，已保存到 missing_in_varierr.jsonl\")\n"
   ]
  },
  {
   "cell_type": "code",
   "execution_count": 2,
   "metadata": {},
   "outputs": [
    {
     "name": "stdout",
     "output_type": "stream",
     "text": [
      "写入完成：dev.jsonl（549条），test.jsonl（550条）\n"
     ]
    }
   ],
   "source": [
    "import json\n",
    "import random\n",
    "\n",
    "# 读取 missing_in_varierr.jsonl 中的所有条目\n",
    "with open('/Users/phoebeeeee/ongoing/MA/dev_test.jsonl', 'r', encoding='utf-8') as f:\n",
    "    entries = [json.loads(line) for line in f]\n",
    "\n",
    "# 随机打乱顺序\n",
    "random.shuffle(entries)\n",
    "\n",
    "# 划分 dev 和 test\n",
    "dev_entries = entries[:549]\n",
    "test_entries = entries[549:]\n",
    "\n",
    "# 写入 dev.jsonl\n",
    "with open('dev.jsonl', 'w', encoding='utf-8') as f:\n",
    "    for entry in dev_entries:\n",
    "        f.write(json.dumps(entry) + '\\n')\n",
    "\n",
    "# 写入 test.jsonl\n",
    "with open('test.jsonl', 'w', encoding='utf-8') as f:\n",
    "    for entry in test_entries:\n",
    "        f.write(json.dumps(entry) + '\\n')\n",
    "\n",
    "print(f\"写入完成：dev.jsonl（{len(dev_entries)}条），test.jsonl（{len(test_entries)}条）\")\n"
   ]
  },
  {
   "cell_type": "markdown",
   "metadata": {},
   "source": [
    "{\"id\": \"54811c\", \"context\": \"The park on the hill of Monte makes a good playground, while the ride down in a wicker toboggan is straight out of an Old World theme park (though surely tame for older kids).\", \"statement\": \"the park on the Hill of Monte is only for children.\", \n",
    "\n",
    "\"entailment\": [], \n",
    "\n",
    "\"neutral\": [{\"annotator\": 0, \"id\": \"1552-neutral-1\", \"judgments\": [{\"annotator\": 0, \"makes_sense\": true}, {\"annotator\": 1, \"makes_sense\": true}, {\"annotator\": 2, \"makes_sense\": true}, {\"annotator\": 3, \"makes_sense\": true}], \"label_correction\": false, \"reason\": \"The context doesn't mention whether the park is only for children.\", \"self_corrected\": false}, \n",
    "\n",
    "{\"annotator\": 1, \"id\": \"1552-neutral-2\", \"judgments\": [{\"annotator\": 0, \"makes_sense\": true}, {\"annotator\": 1, \"makes_sense\": true}, {\"annotator\": 2, \"makes_sense\": true}, {\"annotator\": 3, \"makes_sense\": true}], \"label_correction\": false, \"reason\": \"Only because the park makes a good playground it doesn't necessarily have to be only for kids.\", \"self_corrected\": false}, {\"annotator\": 2, \"id\": \"1552-neutral-3\", \"judgments\": [{\"annotator\": 0, \"makes_sense\": true}, {\"annotator\": 1, \"makes_sense\": true}, {\"annotator\": 2, \"makes_sense\": true}, {\"annotator\": 3, \"makes_sense\": true}], \"label_correction\": false, \"reason\": \"No proof that the park can not be for adults.\", \"self_corrected\": false}, {\"annotator\": 3, \"id\": \"1552-neutral-4\", \"judgments\": [{\"annotator\": 0, \"makes_sense\": true}, {\"annotator\": 1, \"makes_sense\": true}, {\"annotator\": 2, \"makes_sense\": true}, {\"annotator\": 3, \"makes_sense\": true}], \"label_correction\": false, \"reason\": \"It's not mentioned that it's only for children\", \"self_corrected\": false}], \n",
    "\n",
    "\"contradiction\": [{\"annotator\": 1, \"id\": \"1552-contradiction-1\", \n",
    "\"judgments\": [{\"annotator\": 0, \"makes_sense\": false}, {\"annotator\": 1, \"makes_sense\": false}, {\"annotator\": 3, \"makes_sense\": true}], \n",
    "\"label_correction\": false, \n",
    "\"reason\": \"The phrase \\\"makes a good playground\\\" suggests that the park is not a designated playground and thus is open for all age groups. Also, even if the park would be a designated playground, these can typically be also used by adults (at least the parents).\", \n",
    "\"self_corrected\": true}], \n",
    "\n",
    "\"idk\": [], \n",
    "\n",
    "\"label_count_round_1\": {\"contradiction\": 1.0, \"entailment\": null, \"neutral\": 4.0}, \n",
    "\"label_count_round_2\": {\"contradiction\": null, \"entailment\": null, \"neutral\": 4.0}, \n",
    "\"label_set_round_1\": [\"neutral\", \"contradiction\"], \n",
    "\"label_set_round_2\": [\"neutral\"], \n",
    "\"error_labels\": [\"contradiction\"], \n",
    "\"has_ambiguity\": false, \n",
    "\"chaosnli_labels\": {\"n\": 61, \"c\": 22, \"e\": 17}}\n"
   ]
  }
 ],
 "metadata": {
  "kernelspec": {
   "display_name": "base",
   "language": "python",
   "name": "python3"
  },
  "language_info": {
   "codemirror_mode": {
    "name": "ipython",
    "version": 3
   },
   "file_extension": ".py",
   "mimetype": "text/x-python",
   "name": "python",
   "nbconvert_exporter": "python",
   "pygments_lexer": "ipython3",
   "version": "3.12.3"
  }
 },
 "nbformat": 4,
 "nbformat_minor": 2
}
